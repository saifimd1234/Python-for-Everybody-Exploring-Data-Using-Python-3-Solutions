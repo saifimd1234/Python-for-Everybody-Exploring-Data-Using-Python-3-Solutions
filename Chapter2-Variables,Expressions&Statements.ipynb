{
 "cells": [
  {
   "cell_type": "markdown",
   "metadata": {},
   "source": [
    "Exercise 2: Write a program that uses input to prompt a user for their name\n",
    "and then welcomes them.  \n",
    "Enter your name: Chuck  \n",
    "Hello Chuck"
   ]
  },
  {
   "cell_type": "code",
   "execution_count": 10,
   "metadata": {},
   "outputs": [
    {
     "name": "stdout",
     "output_type": "stream",
     "text": [
      "Hello, Chuck.\n"
     ]
    }
   ],
   "source": [
    "def welcome(name):\n",
    "    print(f\"Hello, {name}.\")\n",
    "\n",
    "name_inp = input(\"Enter the name: \")\n",
    "welcome(name_inp)"
   ]
  },
  {
   "cell_type": "markdown",
   "metadata": {},
   "source": [
    "Exercise 3: Write a program to prompt the user for hours and rate per hour to compute gross pay.\n",
    "\n",
    "Enter Hours: 35  \n",
    "Enter Rate: 2.75  \n",
    "Pay: 96.25  \n",
    "\n",
    "We won’t worry about making sure our pay has exactly two digits after the decimal place for now. If you want, you can play with the built-in Python round function to properly round the resulting pay to two decimal places."
   ]
  },
  {
   "cell_type": "code",
   "execution_count": 12,
   "metadata": {},
   "outputs": [
    {
     "name": "stdout",
     "output_type": "stream",
     "text": [
      "The gross pay is:  20\n"
     ]
    }
   ],
   "source": [
    "## def gross_pay()\n",
    "Enter_hours = int(input(\"Enter the hours: \\n\"))\n",
    "Enter_Rate = int(input(\"Enter the houry rate: \\n\"))\n",
    "gross_pay = Enter_hours * Enter_Rate\n",
    "print(\"The gross pay is: \", gross_pay)\n"
   ]
  },
  {
   "cell_type": "markdown",
   "metadata": {},
   "source": [
    "Exercise 4: Assume that we execute the following assignment statements:  \n",
    "width = 17  \n",
    "height = 12.0  \n",
    "For each of the following expressions, write the value of the expression and the type (of the value of the expression).  \n",
    "1. width//2  \n",
    "2. width/2.0  \n",
    "3. height/3  \n",
    "4. 1 + 2 * 5  \n",
    "Use the Python interpreter to check your answers.\n"
   ]
  },
  {
   "cell_type": "code",
   "execution_count": 15,
   "metadata": {},
   "outputs": [
    {
     "name": "stdout",
     "output_type": "stream",
     "text": [
      "8 <class 'int'>\n",
      "8.5 <class 'float'>\n",
      "4.0 <class 'float'>\n",
      "11 <class 'int'>\n"
     ]
    }
   ],
   "source": [
    "width = 17\n",
    "height = 12.0\n",
    "print(width//2, type(width//2))\n",
    "print(width/2.0, type(width/2.0))\n",
    "print(height/3, type(height/3))\n",
    "print(1+2*5, type(1+2*5))"
   ]
  },
  {
   "cell_type": "markdown",
   "metadata": {},
   "source": [
    "Exercise 5: Write a program which prompts the user for a Celsius temperature, convert the temperature to Fahrenheit, and print out the converted temperature."
   ]
  },
  {
   "cell_type": "code",
   "execution_count": 18,
   "metadata": {},
   "outputs": [
    {
     "name": "stdout",
     "output_type": "stream",
     "text": [
      "96.8\n"
     ]
    }
   ],
   "source": [
    "inp = input('Enter Celcius Temperature:')\n",
    "try:\n",
    "    cel = float(inp)\n",
    "    fahr = (9*cel)/5 + 32\n",
    "    print(fahr)\n",
    "except:\n",
    "    print('Please enter a number')"
   ]
  }
 ],
 "metadata": {
  "kernelspec": {
   "display_name": "Python 3",
   "language": "python",
   "name": "python3"
  },
  "language_info": {
   "codemirror_mode": {
    "name": "ipython",
    "version": 3
   },
   "file_extension": ".py",
   "mimetype": "text/x-python",
   "name": "python",
   "nbconvert_exporter": "python",
   "pygments_lexer": "ipython3",
   "version": "3.12.8"
  }
 },
 "nbformat": 4,
 "nbformat_minor": 2
}
