{
 "cells": [
  {
   "cell_type": "markdown",
   "metadata": {},
   "source": [
    "Exercise 1: Rewrite your pay computation to give the employee 1.5 times the\n",
    "hourly rate for hours worked above 40 hours.  \n",
    "Enter Hours: 45  \n",
    "Enter Rate: 10  \n",
    "Pay: 475.0"
   ]
  },
  {
   "cell_type": "code",
   "execution_count": 1,
   "metadata": {},
   "outputs": [
    {
     "name": "stdout",
     "output_type": "stream",
     "text": [
      "Pay:  750.0\n"
     ]
    }
   ],
   "source": [
    "def pay_computation(hours, rate):\n",
    "    if hours > 40:\n",
    "        pay = hours * rate * 1.5\n",
    "    else:\n",
    "        pay = hours * rate\n",
    "    return pay\n",
    "\n",
    "hours = float(input(\"Enter Hours: \"))\n",
    "rate = float(input(\"Enter Rate: \"))\n",
    "\n",
    "print(\"Pay: \", pay_computation(hours, rate))"
   ]
  },
  {
   "cell_type": "markdown",
   "metadata": {},
   "source": [
    "Exercise 2: Rewrite your pay program using try and except so that your program handles non-numeric input gracefully by printing a message and exiting the program. The following shows two executions of the program:  \n",
    "Enter Hours: 20  \n",
    "Enter Rate: nine  \n",
    "Error, please enter numeric input  \n",
    "Enter Hours: forty  \n",
    "Error, please enter numeric input"
   ]
  },
  {
   "cell_type": "code",
   "execution_count": 5,
   "metadata": {},
   "outputs": [
    {
     "name": "stdout",
     "output_type": "stream",
     "text": [
      "Please, enter numeric value 'integer or float'\n",
      "Pay:  90.0\n"
     ]
    }
   ],
   "source": [
    "def pay_computation(hours, rate):\n",
    "    if hours > 40:\n",
    "        p = hours * rate * 1.5\n",
    "    else:\n",
    "        p = hours * rate\n",
    "    return p\n",
    "\n",
    "try:\n",
    "    hours = float(input('Enter the hours: '))\n",
    "    rate = float(input(\"Enter the rate: \"))\n",
    "except:\n",
    "    print(\"Please, enter numeric value 'integer or float'\")\n",
    "\n",
    "print(\"Pay: \", pay_computation(hours, rate))"
   ]
  },
  {
   "cell_type": "markdown",
   "metadata": {},
   "source": [
    "Exercise 3: Write a program to prompt for a score between 0.0 and 1.0. If the score is out of range, print an error message. If the score is between 0.0 and 1.0, print a grade using the following table:\n",
    "Score Grade  \n",
    "'>= 0.9 A'  \n",
    "'>= 0.8 B'  \n",
    "'>= 0.7 C'  \n",
    "'>= 0.6 D'  \n",
    "'< 0.6 F'  \n",
    "Enter score: 0.95  \n",
    "A  \n",
    "Enter score: perfect  \n",
    "Bad score  \n",
    "Enter score: 10.0  \n",
    "Bad score  \n",
    "Enter score: 0.75  \n",
    "C  \n",
    "Enter score: 0.5  \n",
    "F  \n",
    "Run the program repeatedly as shown above to test the various different values for input."
   ]
  },
  {
   "cell_type": "code",
   "execution_count": 1,
   "metadata": {},
   "outputs": [
    {
     "name": "stdout",
     "output_type": "stream",
     "text": [
      "Grade:  B\n"
     ]
    }
   ],
   "source": [
    "def score_computation(score):\n",
    "    if score >=0.9:\n",
    "        return \"A\"\n",
    "    elif score >=0.8:\n",
    "        return \"B\" \n",
    "    elif score >=0.7:\n",
    "        return \"C\"\n",
    "    elif score >=0.6:\n",
    "        return \"D\"\n",
    "    else:\n",
    "        return \"F\"\n",
    "\n",
    "try:\n",
    "    score = float(input(\"Enter the score between 0.0 and 1.0: \"))\n",
    "except:\n",
    "    print(\"Please, enter numeric value 'integer or float'\")\n",
    "\n",
    "print(\"Grade: \", score_computation(score))"
   ]
  }
 ],
 "metadata": {
  "kernelspec": {
   "display_name": "Python 3",
   "language": "python",
   "name": "python3"
  },
  "language_info": {
   "codemirror_mode": {
    "name": "ipython",
    "version": 3
   },
   "file_extension": ".py",
   "mimetype": "text/x-python",
   "name": "python",
   "nbconvert_exporter": "python",
   "pygments_lexer": "ipython3",
   "version": "3.12.8"
  }
 },
 "nbformat": 4,
 "nbformat_minor": 2
}
